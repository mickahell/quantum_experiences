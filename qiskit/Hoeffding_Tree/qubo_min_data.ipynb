{
 "cells": [
  {
   "cell_type": "markdown",
   "id": "c5cbe5ca",
   "metadata": {},
   "source": [
    "# QUBO get minimal value\n",
    "from article [Finding the Smallest Number of an Array with Quantum Computer](https://medium.com/@aniruddha.connect/finding-smallest-number-of-an-array-with-quantum-computer-824386348fe0)\n",
    "\n",
    "**Doc about QAOA**\n",
    "- https://qiskit.org/ecosystem/optimization/stubs/qiskit_optimization.QuadraticProgram.html#quadraticprogram\n",
    "- https://qiskit.org/ecosystem/optimization/tutorials/03_minimum_eigen_optimizer.html"
   ]
  },
  {
   "cell_type": "code",
   "execution_count": 1,
   "id": "bdf14b15",
   "metadata": {},
   "outputs": [],
   "source": [
    "from qiskit.utils import algorithm_globals\n",
    "from qiskit.algorithms.minimum_eigensolvers import QAOA, NumPyMinimumEigensolver\n",
    "from qiskit.algorithms.optimizers import COBYLA\n",
    "from qiskit.primitives import Sampler\n",
    "from qiskit_optimization.algorithms import (\n",
    "    GroverOptimizer,\n",
    "    MinimumEigenOptimizer,\n",
    ")\n",
    "from qiskit_optimization import QuadraticProgram\n",
    "from itertools import combinations\n",
    "from typing import List, Tuple\n",
    "import numpy as np\n",
    "import emoji\n",
    "import math\n",
    "\n",
    "backend_sim = Sampler()\n",
    "algorithm_globals.random_seed = 42"
   ]
  },
  {
   "cell_type": "code",
   "execution_count": 2,
   "id": "43c60684",
   "metadata": {},
   "outputs": [],
   "source": [
    "dataset = [1, 2, 3, -4]\n",
    "params = [\"a\", \"b\", \"c\", \"d\"]    # 1 param = 1 data point\n",
    "constant = 0\n",
    "gen_coef = 1"
   ]
  },
  {
   "cell_type": "code",
   "execution_count": 3,
   "id": "4ca50b40",
   "metadata": {},
   "outputs": [
    {
     "name": "stdout",
     "output_type": "stream",
     "text": [
      "Problem name: Get minimal value.\n",
      "\n",
      "Minimize\n",
      "  a*b + a*c + a*d + b*c + b*d + c*d + a + 2*b + 3*c - 4*d\n",
      "\n",
      "Subject to\n",
      "  Linear constraints (1)\n",
      "    a + b + c + d == 2  '2_minimals'\n",
      "\n",
      "  Binary variables (4)\n",
      "    a b c d\n",
      "\n"
     ]
    }
   ],
   "source": [
    "qubo = QuadraticProgram(name=\"Get minimal value.\")\n",
    "for param in params:\n",
    "    qubo.binary_var(param)\n",
    "\n",
    "qubo.minimize(\n",
    "    constant=constant,\n",
    "    linear=dataset,\n",
    "    quadratic={(x, y): gen_coef for x, y in combinations(params, 2)}\n",
    ")\n",
    "qubo.linear_constraint(\n",
    "    name=\"2_minimals\",\n",
    "    linear={param: 1 for param in params},\n",
    "    sense=\"==\",\n",
    "    rhs=2\n",
    ")\n",
    "\n",
    "print(qubo.prettyprint())"
   ]
  },
  {
   "cell_type": "markdown",
   "id": "4a9cd397",
   "metadata": {},
   "source": [
    "## Classical resolution\n",
    "- Result doc : https://qiskit.org/ecosystem/optimization/stubs/qiskit_optimization.algorithms.OptimizationResult.html"
   ]
  },
  {
   "cell_type": "code",
   "execution_count": 4,
   "id": "2385ccb9",
   "metadata": {},
   "outputs": [
    {
     "name": "stdout",
     "output_type": "stream",
     "text": [
      "objective function value: -2.0\n",
      "variable values: a=1.0, b=0.0, c=0.0, d=1.0\n",
      "status: SUCCESS\n",
      "\n",
      "Same as the theorical result. \n",
      "Congratulations 🎉 !!\n"
     ]
    }
   ],
   "source": [
    "exact_mes = NumPyMinimumEigensolver()\n",
    "exact = MinimumEigenOptimizer(exact_mes)\n",
    "exact_result = exact.solve(qubo)\n",
    "print(exact_result.prettyprint())\n",
    "\n",
    "dataset_sort = sorted(dataset)\n",
    "mini = dataset.index(dataset_sort[0])\n",
    "almost_mini = dataset.index(dataset_sort[1])\n",
    "if exact_result.x[mini] == 1 and exact_result.x[almost_mini] == 1:\n",
    "    print(emoji.emojize(\"\\nSame as the theorical result. \\nCongratulations :party_popper: !!\"))\n",
    "else:\n",
    "    print(emoji.emojize(\"\\nNot passing :cross_mark:\"))"
   ]
  },
  {
   "cell_type": "markdown",
   "id": "91a1a830",
   "metadata": {},
   "source": [
    "## QAOA"
   ]
  },
  {
   "cell_type": "code",
   "execution_count": 5,
   "id": "3076fb31",
   "metadata": {},
   "outputs": [
    {
     "name": "stdout",
     "output_type": "stream",
     "text": [
      "objective function value: -2.0\n",
      "variable values: a=1.0, b=0.0, c=0.0, d=1.0\n",
      "status: SUCCESS\n",
      "\n",
      "Same as the classical result. \n",
      "Congratulations 🎉 !!\n"
     ]
    }
   ],
   "source": [
    "qaoa_mes = QAOA(sampler=backend_sim, optimizer=COBYLA(), initial_point=[0.0, 0.0])\n",
    "qaoa = MinimumEigenOptimizer(qaoa_mes)\n",
    "qaoa_result = qaoa.solve(qubo)\n",
    "print(qaoa_result.prettyprint())\n",
    "\n",
    "if qaoa_result.prettyprint() == exact_result.prettyprint():\n",
    "    print(emoji.emojize(\"\\nSame as the classical result. \\nCongratulations :party_popper: !!\"))\n",
    "else:\n",
    "    print(emoji.emojize(\"\\nNot passing :cross_mark:\"))"
   ]
  },
  {
   "cell_type": "markdown",
   "id": "c34dbc0f",
   "metadata": {},
   "source": [
    "## Grover"
   ]
  },
  {
   "cell_type": "code",
   "execution_count": 6,
   "id": "92d7e978",
   "metadata": {},
   "outputs": [
    {
     "name": "stdout",
     "output_type": "stream",
     "text": [
      "objective function value: -1.0\n",
      "variable values: a=0.0, b=1.0, c=0.0, d=1.0\n",
      "status: SUCCESS\n",
      "\n",
      "Not passing ❌\n"
     ]
    }
   ],
   "source": [
    "nb_qubits = math.ceil(math.log2(len(dataset)))\n",
    "nb_iter = math.ceil((np.pi/len(dataset))*(math.sqrt(2**len(dataset))))\n",
    "grover_optimizer = GroverOptimizer(nb_qubits, num_iterations=nb_iter, sampler=backend_sim)\n",
    "grover_result = grover_optimizer.solve(qubo)\n",
    "print(grover_result.prettyprint())\n",
    "\n",
    "if grover_result.prettyprint() == exact_result.prettyprint():\n",
    "    print(emoji.emojize(\"\\nSame as the classical result. \\nCongratulations :party_popper: !!\"))\n",
    "else:\n",
    "    print(emoji.emojize(\"\\nNot passing :cross_mark:\"))\n",
    "if grover_result.status.value == 2:\n",
    "    print(emoji.emojize(\":warning: seems not usable for most of the QUBO problems\"))"
   ]
  },
  {
   "cell_type": "markdown",
   "id": "2d93ab6d",
   "metadata": {},
   "source": [
    "## Data analyse\n",
    "Resources for plot :\n",
    "- https://qiskit.org/documentation/tutorials/algorithms/05_qaoa.html\n",
    "- https://qiskit.org/ecosystem/optimization/tutorials/06_examples_max_cut_and_tsp.html"
   ]
  },
  {
   "cell_type": "code",
   "execution_count": 177,
   "id": "730790b1",
   "metadata": {},
   "outputs": [
    {
     "data": {
      "text/plain": [
       "Ellipsis"
      ]
     },
     "execution_count": 177,
     "metadata": {},
     "output_type": "execute_result"
    }
   ],
   "source": [
    "..."
   ]
  },
  {
   "cell_type": "markdown",
   "id": "2c9318f7",
   "metadata": {},
   "source": [
    "---"
   ]
  },
  {
   "cell_type": "code",
   "execution_count": null,
   "id": "e8147034",
   "metadata": {},
   "outputs": [],
   "source": []
  }
 ],
 "metadata": {
  "kernelspec": {
   "display_name": "Python 3 (ipykernel)",
   "language": "python",
   "name": "python3"
  },
  "language_info": {
   "codemirror_mode": {
    "name": "ipython",
    "version": 3
   },
   "file_extension": ".py",
   "mimetype": "text/x-python",
   "name": "python",
   "nbconvert_exporter": "python",
   "pygments_lexer": "ipython3",
   "version": "3.10.6"
  }
 },
 "nbformat": 4,
 "nbformat_minor": 5
}
