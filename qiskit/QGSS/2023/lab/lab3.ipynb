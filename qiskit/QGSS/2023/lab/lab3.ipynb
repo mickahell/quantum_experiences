{
 "cells": [
  {
   "cell_type": "markdown",
   "id": "abdd2993",
   "metadata": {},
   "source": [
    "# Lab 3 : Diving Into Quantum Algorithms\n",
    "***"
   ]
  },
  {
   "cell_type": "markdown",
   "id": "b82a124a",
   "metadata": {},
   "source": [
    "## Section 1: QPE\n",
    "\n",
    "\n",
    "<img src=\"./resources/qpe_tex_qz.png\" alt=\"QPE Circuit\" style=\"width: 800px;\"/>\n",
    "\n",
    "\n",
    "Here we will construct a set of functions to generate a Quantum Phase Estimation circuit.\n",
    "\n",
    "*What will students do?*:\n",
    "1. Generate a QPE circuit with an arbitrary number of counting qubits\n",
    "    1. Give hint to start at 4 or other small number and modularize it\n",
    "1. Use the QPE circuit to construct Shor's algorithm for small integers.\n",
    "    "
   ]
  },
  {
   "cell_type": "code",
   "execution_count": 1,
   "id": "01b08df9",
   "metadata": {
    "tags": []
   },
   "outputs": [],
   "source": [
    "import qiskit as qk\n",
    "import numpy as np\n",
    "from qiskit.visualization import plot_histogram\n",
    "import matplotlib.pyplot as plt\n",
    "from math import gcd\n",
    "\n"
   ]
  },
  {
   "cell_type": "code",
   "execution_count": 280,
   "id": "3c62e5a7",
   "metadata": {
    "tags": []
   },
   "outputs": [],
   "source": [
    "#QFT Circuit\n",
    "def qft(n):\n",
    "    \"\"\"Creates an n-qubit QFT circuit\"\"\"\n",
    "    circuit = qk.QuantumCircuit(n)\n",
    "    def swap_registers(circuit, n):\n",
    "        for qubit in range(n//2):\n",
    "            circuit.swap(qubit, n-qubit-1)\n",
    "        return circuit\n",
    "    def qft_rotations(circuit, n):\n",
    "        \"\"\"Performs qft on the first n qubits in circuit (without swaps)\"\"\"\n",
    "        if n == 0:\n",
    "            return circuit\n",
    "        n -= 1\n",
    "        circuit.h(n)\n",
    "        for qubit in range(n):\n",
    "            circuit.cp(np.pi/2**(n-qubit), qubit, n)\n",
    "        qft_rotations(circuit, n)\n",
    "    \n",
    "    qft_rotations(circuit, n)\n",
    "    swap_registers(circuit, n)\n",
    "    return circuit\n",
    "\n",
    "#Inverse Quantum Fourier Transform\n",
    "#def qft_dagger(qc, n):\n",
    "#    \"\"\"n-qubit QFTdagger the first n qubits in circ\"\"\"\n",
    "#    # Don't forget the Swaps!\n",
    "#    for qubit in range(n//2):\n",
    "#        qc.swap(qubit, n-qubit-1)\n",
    "#    for j in range(n):\n",
    "#        for m in range(j):\n",
    "#            qc.cp(-np.pi/float(2**(j-m)), m, j)\n",
    "#        qc.h(j)\n",
    "\n",
    "def qft_dagger(n):\n",
    "    \"\"\"n-qubit QFTdagger the first n qubits in circ\"\"\"\n",
    "    qc = qk.QuantumCircuit(n)\n",
    "    # Don't forget the Swaps!\n",
    "    for qubit in range(n//2):\n",
    "        qc.swap(qubit, n-qubit-1)\n",
    "    for j in range(n):\n",
    "        for m in range(j):\n",
    "            qc.cp(-np.pi/float(2**(j-m)), m, j)\n",
    "        qc.h(j)\n",
    "    qc.name = \"QFT†\"\n",
    "    return qc"
   ]
  },
  {
   "cell_type": "markdown",
   "id": "206bb6b0",
   "metadata": {},
   "source": [
    "### Step 1: Set up a QPE Circuit with four counting qubits\n",
    "\n",
    "\n",
    "\n",
    "Let's pick a phase gate with $\\theta = \\frac{1}{3}$ as a simple example unitary to test creating a QPE circuit.  Here we'll use Qiskit's `PhaseGate` which applies $P|1\\rangle{}=e^{i\\lambda}|1\\rangle{}$.  Since we want to examine QPE under a unitary with the form $U|1\\rangle{}=e^{i2\\pi \\theta}$, we should set $\\lambda=\\frac{2\\pi}{3}$.\n",
    "\n",
    "Create a QPE circuit with four counting qubits and name the circuit `qpe4`.  It may be helpful to define two `QuantumRegister` objects, one for the \"system\" where the unitary will be applied and one for where the phase information will be stored.  Feel free to reference the Qiskit Textbook's chapter on [Quantum Phase Estimation](https://learn.qiskit.org/course/ch-algorithms/quantum-phase-estimation#getting_more_precision)."
   ]
  },
  {
   "cell_type": "markdown",
   "id": "67a189c9",
   "metadata": {},
   "source": [
    "It should look something like this:\n",
    "\n",
    "<img src=\"./resources/qpe4_circuit.png\" alt=\"QPE 4 Phase Circuit\" style=\"width: 1000px;\"/>\n"
   ]
  },
  {
   "cell_type": "code",
   "execution_count": 211,
   "id": "cdf021ec",
   "metadata": {
    "tags": []
   },
   "outputs": [
    {
     "data": {
      "text/plain": [
       "<qiskit.circuit.instructionset.InstructionSet at 0x7fe7c10b2020>"
      ]
     },
     "execution_count": 211,
     "metadata": {},
     "output_type": "execute_result"
    }
   ],
   "source": [
    "\n",
    "phase_register_size = 4\n",
    "qpe4 = qk.QuantumCircuit(phase_register_size+1, phase_register_size)\n",
    "\n",
    "### Insert your code here\n",
    "for i in range(phase_register_size):\n",
    "    qpe4.h(i)\n",
    "    \n",
    "qpe4.x(4)\n",
    "\n",
    "qpe4.cp(2*np.pi/3, 0, 4)\n",
    "\n",
    "t = 2\n",
    "for i in range(t):\n",
    "    qpe4.cp(2*np.pi/3, 1, 4)\n",
    "\n",
    "t *= 2\n",
    "for i in range(t):\n",
    "    qpe4.cp(2*np.pi/3, 2, 4)\n",
    "\n",
    "t *= 2\n",
    "for i in range(t):\n",
    "    qpe4.cp(2*np.pi/3, 3, 4)\n",
    "\n",
    "#qpe4.barrier()\n",
    "qpe4.swap(0, 3)\n",
    "qpe4.h(0)\n",
    "qpe4.swap(1, 2)\n",
    "qpe4.cp(-np.pi/2, 0, 1)\n",
    "qpe4.h(1)\n",
    "qpe4.cp(-np.pi/4, 0, 2)\n",
    "qpe4.cp(-np.pi/2, 1, 2)\n",
    "qpe4.cp(-np.pi/8, 0, 3)\n",
    "qpe4.h(2)\n",
    "qpe4.cp(-np.pi/4, 1, 3)\n",
    "qpe4.cp(-np.pi/2, 2, 3)\n",
    "qpe4.h(3)\n",
    "\n",
    "qpe4.measure(0, 0)\n",
    "qpe4.measure(1, 1)\n",
    "qpe4.measure(2, 2)\n",
    "qpe4.measure(3, 3)\n"
   ]
  },
  {
   "cell_type": "markdown",
   "id": "21259f16",
   "metadata": {},
   "source": [
    "Now use the `AerSimulator` to simulate this circuit and plot the histogram of the results.  Use 2000 shots.\n"
   ]
  },
  {
   "cell_type": "code",
   "execution_count": 10,
   "id": "f091e056",
   "metadata": {
    "tags": []
   },
   "outputs": [
    {
     "data": {
      "image/png": "[encoded data removed]",
      "text/plain": [
       "<Figure size 900x500 with 1 Axes>"
      ]
     },
     "execution_count": 10,
     "metadata": {},
     "output_type": "execute_result"
    }
   ],
   "source": [
    "## Run this cell to simulate 'qpe4' and to plot the histogram of the result\n",
    "sim = qk.Aer.get_backend('aer_simulator')\n",
    "shots = 2000\n",
    "count_qpe4 = qk.execute(qpe4, sim, shots=shots).result().get_counts()\n",
    "plot_histogram(count_qpe4, figsize=(9,5))"
   ]
  },
  {
   "cell_type": "code",
   "execution_count": 11,
   "id": "fb998b47",
   "metadata": {
    "tags": []
   },
   "outputs": [
    {
     "name": "stdout",
     "output_type": "stream",
     "text": [
      "Submitting your answer. Please wait...\n",
      "Congratulations 🎉! Your answer is correct and has been submitted.\n"
     ]
    }
   ],
   "source": [
    "from qc_grader.challenges.qgss_2023 import grade_lab3_ex1 \n",
    "\n",
    "grade_lab3_ex1(count_qpe4)"
   ]
  },
  {
   "cell_type": "markdown",
   "id": "9ca1785a",
   "metadata": {},
   "source": [
    "Next write a function to process the bit strings into the estimate of $\\theta$.  Recall that the phase estimate is written in the form:\n",
    "\n",
    "$$ \\theta = 0.\\theta_1\\theta_2\\theta_3...\\theta_t = \\frac{\\theta_1}{2^1} + \\frac{\\theta_2}{2^2} + \\frac{\\theta_3}{2^3} + ... + \\frac{\\theta_t}{2^t} $$\n",
    "\n",
    "where $\\theta_i = \\{0,1\\}$.  What is the estimated phase?  To within what power of 2 is the estimate accurate up to given your choice of the number of counting qubits (e.g. $2^{-2}$, $2^{-3}$, $2^{-4}$, etc.)?\n",
    "\n"
   ]
  },
  {
   "cell_type": "code",
   "execution_count": 12,
   "id": "0d427100",
   "metadata": {
    "tags": []
   },
   "outputs": [
    {
     "name": "stdout",
     "output_type": "stream",
     "text": [
      "1382\n",
      "0101\n",
      "0.3125\n",
      "0.062499999999999944\n"
     ]
    }
   ],
   "source": [
    "\n",
    "#Grab the highest probability measurement\n",
    "max_binary_counts = 0\n",
    "max_binary_val = ''\n",
    "for key, item in count_qpe4.items():\n",
    "    if item > max_binary_counts:\n",
    "        max_binary_counts = item\n",
    "        max_binary_val = key\n",
    "\n",
    "## Your function to convert a binary string to decimal goes here\n",
    "print(max_binary_counts)\n",
    "print(max_binary_val)\n",
    "\n",
    "\n",
    "estimated_phase = int(max_binary_val, 2)/(2**len(max_binary_val))\n",
    "actual_phase = 1/3\n",
    "phase_accuracy = abs(estimated_phase-actual_phase)/actual_phase\n",
    "\n",
    "print(estimated_phase)\n",
    "print(phase_accuracy)\n",
    "\n"
   ]
  },
  {
   "cell_type": "code",
   "execution_count": 13,
   "id": "732d9625",
   "metadata": {
    "tags": []
   },
   "outputs": [
    {
     "name": "stdout",
     "output_type": "stream",
     "text": [
      "Submitting your answer. Please wait...\n",
      "Congratulations 🎉! Your answer is correct and has been submitted.\n"
     ]
    }
   ],
   "source": [
    "\n",
    "from qc_grader.challenges.qgss_2023 import grade_lab3_ex2 \n",
    "\n",
    "grade_lab3_ex2([estimated_phase, phase_accuracy])"
   ]
  },
  {
   "cell_type": "markdown",
   "id": "3820b0e3",
   "metadata": {},
   "source": [
    "## Step 2: Run on Noisy Hardware\n",
    "\n",
    "Now run this circuit using your favorite backend!  Transpile this circuit a number of times (you pick how many) and pick the one with the lowest and highest circuit depth. \n",
    "\n",
    "Transpile the circuit with the parameter optimization_level = 3 to reduce the error in the result. Qiskit by default uses a stochastic swap mapper to place the needed SWAP gates, which varies the transpiled circuit results even under the same runtime settings. Therefore, to achieve shorter depth transpiled circuit for smaller error in the outcome, transpile qpe4 multiple times and choose one with the minimum circuit depth. Select the maximum circuit depth one as well to compare against, name them `min_depth_qpe` and `max_depth_qpe`.\n",
    "\n"
   ]
  },
  {
   "cell_type": "code",
   "execution_count": 286,
   "id": "8297c6da",
   "metadata": {
    "tags": []
   },
   "outputs": [
    {
     "name": "stdout",
     "output_type": "stream",
     "text": [
      "depth =  79\n",
      "depth =  76\n",
      "depth =  79\n",
      "depth =  79\n",
      "depth =  79\n"
     ]
    }
   ],
   "source": [
    "from qiskit_ibm_provider import IBMProvider\n",
    "from qiskit import transpile\n",
    "\n",
    "\n",
    "provider = IBMProvider()\n",
    "hub = \"summer-school-ea\"\n",
    "group = \"group-1\"\n",
    "project = \"648fee6159757756\"\n",
    "backend_name = \"ibmq_manila\"\n",
    "\n",
    "backend = provider.get_backend(backend_name, instance=f\"{hub}/{group}/{project}\")\n",
    "\n",
    "# your code goes here\n",
    "depths = []\n",
    "for i in range(5):\n",
    "    depths.append(transpile(qpe4, backend=backend, optimization_level=3))\n",
    "\n",
    "for i in depths:\n",
    "    print('depth = ', i.depth())\n"
   ]
  },
  {
   "cell_type": "code",
   "execution_count": 38,
   "id": "05a7290b-9185-468f-b646-6538adbfcddc",
   "metadata": {
    "tags": []
   },
   "outputs": [],
   "source": [
    "min_depth_qpe = depths[0]\n",
    "max_depth_qpe = depths[-1]"
   ]
  },
  {
   "cell_type": "code",
   "execution_count": 39,
   "id": "5adcd092",
   "metadata": {},
   "outputs": [
    {
     "name": "stdout",
     "output_type": "stream",
     "text": [
      "cibbfl0k82m1odf75vv0\n"
     ]
    },
    {
     "ename": "KeyboardInterrupt",
     "evalue": "",
     "output_type": "error",
     "traceback": [
      "\u001b[0;31m---------------------------------------------------------------------------\u001b[0m",
      "\u001b[0;31mKeyboardInterrupt\u001b[0m                         Traceback (most recent call last)",
      "Cell \u001b[0;32mIn[39], line 8\u001b[0m\n\u001b[1;32m      5\u001b[0m \u001b[38;5;28mprint\u001b[39m(job_min_qpe4\u001b[38;5;241m.\u001b[39mjob_id())\n\u001b[1;32m      7\u001b[0m \u001b[38;5;66;03m#Gather the count data\u001b[39;00m\n\u001b[0;32m----> 8\u001b[0m count_min_qpe4 \u001b[38;5;241m=\u001b[39m \u001b[43mjob_min_qpe4\u001b[49m\u001b[38;5;241;43m.\u001b[39;49m\u001b[43mresult\u001b[49m\u001b[43m(\u001b[49m\u001b[43m)\u001b[49m\u001b[38;5;241m.\u001b[39mget_counts()\n\u001b[1;32m      9\u001b[0m plot_histogram(count_min_qpe4, figsize\u001b[38;5;241m=\u001b[39m(\u001b[38;5;241m9\u001b[39m,\u001b[38;5;241m5\u001b[39m))\n",
      "File \u001b[0;32m/opt/conda/lib/python3.10/site-packages/qiskit_ibm_provider/job/ibm_circuit_job.py:242\u001b[0m, in \u001b[0;36mIBMCircuitJob.result\u001b[0;34m(self, timeout, refresh)\u001b[0m\n\u001b[1;32m    240\u001b[0m \u001b[38;5;66;03m# pylint: disable=arguments-differ\u001b[39;00m\n\u001b[1;32m    241\u001b[0m \u001b[38;5;28;01mif\u001b[39;00m \u001b[38;5;28mself\u001b[39m\u001b[38;5;241m.\u001b[39m_result \u001b[38;5;129;01mis\u001b[39;00m \u001b[38;5;28;01mNone\u001b[39;00m \u001b[38;5;129;01mor\u001b[39;00m refresh:\n\u001b[0;32m--> 242\u001b[0m     \u001b[38;5;28;43mself\u001b[39;49m\u001b[38;5;241;43m.\u001b[39;49m\u001b[43mwait_for_final_state\u001b[49m\u001b[43m(\u001b[49m\u001b[43mtimeout\u001b[49m\u001b[38;5;241;43m=\u001b[39;49m\u001b[43mtimeout\u001b[49m\u001b[43m)\u001b[49m\n\u001b[1;32m    243\u001b[0m     \u001b[38;5;28;01mif\u001b[39;00m \u001b[38;5;28mself\u001b[39m\u001b[38;5;241m.\u001b[39m_status \u001b[38;5;129;01mis\u001b[39;00m JobStatus\u001b[38;5;241m.\u001b[39mCANCELLED:\n\u001b[1;32m    244\u001b[0m         \u001b[38;5;28;01mraise\u001b[39;00m IBMJobInvalidStateError(\n\u001b[1;32m    245\u001b[0m             \u001b[38;5;124m\"\u001b[39m\u001b[38;5;124mUnable to retrieve result for job \u001b[39m\u001b[38;5;132;01m{}\u001b[39;00m\u001b[38;5;124m. \u001b[39m\u001b[38;5;124m\"\u001b[39m\n\u001b[1;32m    246\u001b[0m             \u001b[38;5;124m\"\u001b[39m\u001b[38;5;124mJob was cancelled.\u001b[39m\u001b[38;5;124m\"\u001b[39m\u001b[38;5;241m.\u001b[39mformat(\u001b[38;5;28mself\u001b[39m\u001b[38;5;241m.\u001b[39mjob_id())\n\u001b[1;32m    247\u001b[0m         )\n",
      "File \u001b[0;32m/opt/conda/lib/python3.10/site-packages/qiskit_ibm_provider/job/ibm_circuit_job.py:636\u001b[0m, in \u001b[0;36mIBMCircuitJob.wait_for_final_state\u001b[0;34m(self, timeout)\u001b[0m\n\u001b[1;32m    632\u001b[0m         \u001b[38;5;28;01mif\u001b[39;00m timeout \u001b[38;5;129;01mis\u001b[39;00m \u001b[38;5;129;01mnot\u001b[39;00m \u001b[38;5;28;01mNone\u001b[39;00m \u001b[38;5;129;01mand\u001b[39;00m elapsed_time \u001b[38;5;241m>\u001b[39m\u001b[38;5;241m=\u001b[39m timeout:\n\u001b[1;32m    633\u001b[0m             \u001b[38;5;28;01mraise\u001b[39;00m IBMJobTimeoutError(\n\u001b[1;32m    634\u001b[0m                 \u001b[38;5;124mf\u001b[39m\u001b[38;5;124m\"\u001b[39m\u001b[38;5;124mTimed out waiting for job to complete after \u001b[39m\u001b[38;5;132;01m{\u001b[39;00mtimeout\u001b[38;5;132;01m}\u001b[39;00m\u001b[38;5;124m secs.\u001b[39m\u001b[38;5;124m\"\u001b[39m\n\u001b[1;32m    635\u001b[0m             )\n\u001b[0;32m--> 636\u001b[0m         \u001b[43mtime\u001b[49m\u001b[38;5;241;43m.\u001b[39;49m\u001b[43msleep\u001b[49m\u001b[43m(\u001b[49m\u001b[38;5;241;43m3\u001b[39;49m\u001b[43m)\u001b[49m\n\u001b[1;32m    637\u001b[0m         status \u001b[38;5;241m=\u001b[39m \u001b[38;5;28mself\u001b[39m\u001b[38;5;241m.\u001b[39mstatus()\n\u001b[1;32m    638\u001b[0m \u001b[38;5;28;01mexcept\u001b[39;00m futures\u001b[38;5;241m.\u001b[39mTimeoutError:\n",
      "\u001b[0;31mKeyboardInterrupt\u001b[0m: "
     ]
    }
   ],
   "source": [
    "shots = 2000\n",
    "\n",
    "#Run the minimum depth qpe circuit\n",
    "job_min_qpe4 = backend.run(min_depth_qpe, sim, shots=shots)\n",
    "print(job_min_qpe4.job_id())\n",
    "\n",
    "#Gather the count data\n",
    "count_min_qpe4 = job_min_qpe4.result().get_counts()\n",
    "plot_histogram(count_min_qpe4, figsize=(9,5))"
   ]
  },
  {
   "cell_type": "code",
   "execution_count": null,
   "id": "a05d8270",
   "metadata": {},
   "outputs": [],
   "source": [
    "\n",
    "#Run the maximum depth qpe circuit\n",
    "job_max_qpe4 = backend.run(max_depth_qpe, sim, shots=shots)\n",
    "print(job_max_qpe4.job_id())\n",
    "\n",
    "#Gather the count data\n",
    "count_max_qpe4 = job_max_qpe4.result().get_counts()\n",
    "plot_histogram(count_max_qpe4, figsize=(9,5))"
   ]
  },
  {
   "cell_type": "code",
   "execution_count": 40,
   "id": "7b389bc6",
   "metadata": {},
   "outputs": [
    {
     "name": "stdout",
     "output_type": "stream",
     "text": [
      "Submitting your answer. Please wait...\n",
      "Congratulations 🎉! Your answer is correct and has been submitted.\n"
     ]
    }
   ],
   "source": [
    "from qc_grader.challenges.qgss_2023 import grade_lab3_ex3\n",
    "\n",
    "grade_lab3_ex3([max_depth_qpe, min_depth_qpe])"
   ]
  },
  {
   "cell_type": "markdown",
   "id": "3b2b49a6",
   "metadata": {},
   "source": [
    "## Step 3: Try with a different $\\theta$\n",
    "\n",
    "Now try the same procedure with $\\theta = \\frac{1}{5}$.  Rewrite your code written above to create a function which generates a QPE circuit with $n$ register qubits.  How many register qubits storing the phase information are needed for the estimate to be accurate to within $2^{-3}$? \n",
    "\n",
    "*Hint: It may be easier to iterate over different phase register sizes by creating a callable function. Perhaps call it* `qpe_circuit`"
   ]
  },
  {
   "cell_type": "code",
   "execution_count": 41,
   "id": "b121893f",
   "metadata": {},
   "outputs": [],
   "source": [
    "\n",
    "\n",
    "def qpe_circuit(register_size):\n",
    "\n",
    "    # Your code goes here\n",
    "    \n",
    "    \n",
    "    return qpe\n",
    "    \n",
    "\n"
   ]
  },
  {
   "cell_type": "code",
   "execution_count": null,
   "id": "42ec48b0",
   "metadata": {},
   "outputs": [],
   "source": [
    "## Run this cell to simulate 'qpe4' and to plot the histogram of the result\n",
    "reg_size = # Vary the register sizes\n",
    "\n",
    "qpe_check = qpe_circuit(reg_size)\n",
    "sim = qk.Aer.get_backend('aer_simulator')\n",
    "shots = 2000\n",
    "count_qpe4 = qk.execute(qpe_check, sim, shots=shots).result().get_counts()\n",
    "plot_histogram(count_qpe4, figsize=(9,5))"
   ]
  },
  {
   "cell_type": "code",
   "execution_count": null,
   "id": "d1cfe002",
   "metadata": {},
   "outputs": [],
   "source": [
    "\n",
    "\n",
    "# Process the count data to determine accuracy of the estimated phase\n",
    "\n",
    "\n",
    "\n"
   ]
  },
  {
   "cell_type": "code",
   "execution_count": 50,
   "id": "190454a7",
   "metadata": {},
   "outputs": [],
   "source": [
    "required_register_size = 8 #your answer here"
   ]
  },
  {
   "cell_type": "code",
   "execution_count": 51,
   "id": "c08ac980",
   "metadata": {},
   "outputs": [
    {
     "name": "stdout",
     "output_type": "stream",
     "text": [
      "Submitting your answer. Please wait...\n",
      "Congratulations 🎉! Your answer is correct and has been submitted.\n"
     ]
    }
   ],
   "source": [
    "from qc_grader.challenges.qgss_2023 import grade_lab3_ex4\n",
    "\n",
    "grade_lab3_ex4(required_register_size)"
   ]
  },
  {
   "cell_type": "markdown",
   "id": "0a450574",
   "metadata": {},
   "source": [
    "## Section 2: Shor's Algorithm\n",
    "***\n",
    "\n",
    "Here we will construct a set of functions to implement Shor's algorithm.  Remember that the goal of this algorithm is to find the prime factors of some large number $N$ and the key speedup this algorithm provides is by executing the period-finding part using a quantum computer.  This is where this section of the lab will focus.\n",
    "\n",
    "*What will students do?*:\n",
    "1. Construct a compiled version of Shor's algorithm\n",
    "\n",
    "Recall the Shor's algorithm is composed of the following steps:\n",
    "1. Choose a co-prime $a$, where $a\\in [2,N-1]$ and the greatest common divisor of $a$ and $N$ is 1.\n",
    "1. Find the order (periodicity) of $a$ modulo $N$, i.e. the smallest integer $r$ such that $a^r\\text{mod} N=1$\n",
    "1. Obtain the factor of $N$ by computing the greatest common divisor of $a^{r/2} \\pm 1$ and $N$."
   ]
  },
  {
   "cell_type": "markdown",
   "id": "818edadf",
   "metadata": {},
   "source": [
    "## Step 1. Period Finding\n",
    "\n",
    "To begin, we'll use the unitary operator: $$ U|y\\rangle{} \\equiv |ay\\ \\text{mod} N\\rangle{} $$\n",
    "\n",
    "\n",
    "and explore the superposition state: \n",
    "$$\n",
    "|u\\rangle{} = \\frac{1}{\\sqrt{r}}\\sum_{k=0}^{r-1} e^{-\\frac{2\\pi ik}{r}}|a^k \\text{mod}N\\rangle{}\n",
    "$$\n",
    "\n",
    "Let's pick $a=3$ and $N=35$ as an example and investigate what the action of $U$ is on $|u\\rangle{}$\n",
    "\\begin{align}\n",
    "    U|u\\rangle{} &= U\\frac{1}{\\sqrt{r}}\\left( |1\\rangle{} + e^{-\\frac{2\\pi i}{r}}|3\\rangle{} + e^{\\frac{-4\\pi i}{r}}|9\\rangle{} + ... + e^{\\frac{-20\\pi i}{r}}|4\\rangle{} + e^{\\frac{-22\\pi i}{r}}|12\\rangle{} \\right) \\\\\n",
    "    & =\\frac{1}{\\sqrt{r}}\\left( U|1\\rangle{} + e^{-\\frac{2\\pi i}{r}}U|3\\rangle{} + e^{\\frac{-4\\pi i}{r}}U|9\\rangle{} + ... + e^{\\frac{-20\\pi i}{r}}U|4\\rangle{} + e^{\\frac{-22\\pi i}{r}}U|12\\rangle{} \\right) \\\\\n",
    "    &= \\frac{1}{\\sqrt{r}}\\left( |3\\rangle{} + e^{-\\frac{2\\pi i}{r}}|9\\rangle{} + e^{\\frac{-4\\pi i}{r}}|27\\rangle{} + ... + e^{\\frac{-20\\pi i}{r}}|12\\rangle{} + e^{\\frac{-22\\pi i}{r}}|1\\rangle{} \\right) \\\\\n",
    "    &= \\frac{e^{\\frac{2\\pi i}{r}}}{\\sqrt{r}}\\left( e^{-\\frac{2\\pi i}{r}}|3\\rangle{} + e^{\\frac{-4\\pi i}{r}}|9\\rangle{} + ... + e^{\\frac{-20\\pi i}{r}}|4\\rangle{} + e^{\\frac{-22\\pi i}{r}}|12\\rangle{} + |1\\rangle{} \\right) \\\\\n",
    "    &= \\frac{e^{\\frac{2\\pi i}{r}}}{\\sqrt{r}} |u\\rangle{}.\n",
    "\\end{align}\n",
    "\n",
    "\n",
    "This is a particularly helpful eigenvalue as it contains $r$.  In fact, it needs to be included in order to ensure the phase differences between the basis states are equal.  This is also not the only eigenstate of $U$.  FOr us to generalize further, we can multiply an integer $s$ to each of these phases, which will then show up in our eigenvalue\n",
    "\n",
    "\\begin{align}\n",
    "    |u_s\\rangle{} &= \\frac{1}{\\sqrt{r}}\\sum_{k=0}^{r-1} e^{\\frac{-2\\pi isk}{r}|a^k\\text{mod} N\\rangle{}} \\\\\n",
    "    U|u_s\\rangle{} &= e^{\\frac{2\\pi is}{r}}|u_s\\rangle{}.\n",
    "\\end{align}\n",
    "\n",
    "\n",
    "Now we have an eigenstate for each integer $0 \\leq s \\leq r$.  Notably, if we add up all of these eigenstates, the phases cancel all other basis states except $|1\\rangle{}$ $$ \\frac{1}{\\sqrt{r}} \\sum_{s=0}^{r-1}|u_s\\rangle{} = |1\\rangle{} $$.\n",
    "\n",
    "\n",
    "Since any state in the computational basis can be written as a linear combination of these eigenstates, if we do QPE on $U$ using the state $|1\\rangle{}$, we will measure a phase \n",
    "\n",
    "$$ \\phi = \\frac{s}{r} $$\n",
    "where $s$ is a random integer between $0$ and $r-1$.  Finally, we can use a method called the continued fraction algorithm on $\\phi$ in order to find r.  The final circuit will look something like this\n"
   ]
  },
  {
   "cell_type": "markdown",
   "id": "03df2e95",
   "metadata": {},
   "source": [
    "\n",
    "<img src=\"./resources/Shor_circuit.png\" alt=\"Short Circuit\" style=\"width: 1000px;\"/>\n",
    "\n",
    "\n",
    "***\n",
    "\n",
    "Below we'll provide the unitary $U$ needed for solving this period finding problem with $a=7$ and $N=15$\n",
    "\n",
    "$$ \n",
    "    U|y\\rangle{} = |7y\\text{mod}15\\rangle{}.\n",
    "$$\n",
    "\n",
    "To create $U^x$ we will simply repeat the circuit $x$ times.  The cell below will construct this unitary"
   ]
  },
  {
   "cell_type": "code",
   "execution_count": 97,
   "id": "f44d5c01",
   "metadata": {},
   "outputs": [],
   "source": [
    "## Create 7mod15 gate\n",
    "N = 15\n",
    "m = int(np.ceil(np.log2(N)))\n",
    "\n",
    "U_qc = qk.QuantumCircuit(m)\n",
    "U_qc.x(range(m))\n",
    "U_qc.swap(1, 2)\n",
    "U_qc.swap(2, 3)\n",
    "U_qc.swap(0, 3)\n",
    "\n",
    "U = U_qc.to_gate()\n",
    "U.name ='{}Mod{}'.format(7, N)"
   ]
  },
  {
   "cell_type": "markdown",
   "id": "755e83e3",
   "metadata": {},
   "source": [
    "Confirm if the operator $U$ works as intended by creating a quantum circuit with $m$ qubits.  Prepare the inpute state representing any integer between $0$ and $15$ (remembering that Qiskit uses little endian notation) such as $|1\\rangle{} = |0001\\rangle{}$, $|5\\rangle{} = |0101\\rangle{}$, etc. and apply the $U$ gate to it.  Check if the circuit produces the expected outcomes for several inputs: $|1\\rangle{}$, $|3\\rangle{}$, and $|5\\rangle{}$.  Run these circuits through the `aer_simulator` backend with $10000$ shots, save the count data as `input_1`, `input_3`, and `input_5`."
   ]
  },
  {
   "cell_type": "code",
   "execution_count": 288,
   "id": "2413af6c",
   "metadata": {},
   "outputs": [
    {
     "data": {
      "image/png": "[encoded data removed]",
      "text/plain": [
       "<Figure size 705.552x451.5 with 1 Axes>"
      ]
     },
     "execution_count": 288,
     "metadata": {},
     "output_type": "execute_result"
    }
   ],
   "source": [
    "### your code goes here\n",
    "\n",
    "qcirc1 = qk.QuantumCircuit(m, m)\n",
    "qcirc1.x(0)\n",
    "for i in range(1):\n",
    "    qcirc1.append(U, (i for i in range(m)))\n",
    "\n",
    "for i in range(m):\n",
    "    qcirc1.measure(i, i)\n",
    "\n",
    "\n",
    "qcirc3 = qk.QuantumCircuit(m, m)\n",
    "#qcirc3.x(0)\n",
    "qcirc3.x(1)\n",
    "#qcirc3.x(3)\n",
    "for i in range(2):\n",
    "    qcirc3.append(U, (i for i in range(m)))\n",
    "\n",
    "for i in range(m):\n",
    "    qcirc3.measure(i, i)\n",
    "\n",
    "\n",
    "qcirc5 = qk.QuantumCircuit(m, m)\n",
    "qcirc5.x(0)\n",
    "qcirc5.x(2)\n",
    "for i in range(5):\n",
    "    qcirc5.append(U, (i for i in range(m)))\n",
    "\n",
    "for i in range(m):\n",
    "    qcirc5.measure(i, i)\n",
    "    \n",
    "qcirc1.draw()\n",
    "#qcirc3.draw()\n",
    "#qcirc5.draw()"
   ]
  },
  {
   "cell_type": "code",
   "execution_count": 289,
   "id": "64292ddb",
   "metadata": {},
   "outputs": [
    {
     "name": "stdout",
     "output_type": "stream",
     "text": [
      "{'0111': 20000}\n",
      "{'1000': 20000}\n",
      "{'0101': 20000}\n"
     ]
    }
   ],
   "source": [
    "## Run this cell to simulate 'qpe4' and to plot the histogram of the result\n",
    "sim = qk.Aer.get_backend('aer_simulator')\n",
    "shots = 20000\n",
    "#count_qpe4 = qk.execute(qcirc, sim, shots=shots).result().get_counts()\n",
    "\n",
    "input_1 = qk.execute(qcirc1, sim, shots=shots).result().get_counts() # save the count data for input 1\n",
    "input_3 = qk.execute(qcirc3, sim, shots=shots).result().get_counts() # save the count data for input 2\n",
    "input_5 = qk.execute(qcirc5, sim, shots=shots).result().get_counts() # save the count data for input 5\n",
    "\n",
    "plot_histogram(input_3, figsize=(9,5))\n",
    "print(input_1)\n",
    "print(input_3)\n",
    "print(input_5)"
   ]
  },
  {
   "cell_type": "code",
   "execution_count": 203,
   "id": "fc5f5437",
   "metadata": {},
   "outputs": [
    {
     "name": "stdout",
     "output_type": "stream",
     "text": [
      "Submitting your answer. Please wait...\n",
      "Congratulations 🎉! Your answer is correct and has been submitted.\n"
     ]
    }
   ],
   "source": [
    "from qc_grader.challenges.qgss_2023 import grade_lab3_ex5\n",
    "\n",
    "#input_1 = {'0111': shots}\n",
    "#input_3 = {'1110': shots}\n",
    "#input_5 = {'0101': shots}\n",
    "\n",
    "grade_lab3_ex5([input_1, input_3, input_5])"
   ]
  },
  {
   "cell_type": "markdown",
   "id": "c0b545ec",
   "metadata": {},
   "source": [
    "## Step 2. Implementing $U^{2^{m-1}}$\n",
    "\n",
    "Now we'll use this controlled-$U$ to estimate the phase $\\phi=\\frac{s}{r}$.  First create a quantum circuit with $m=4$ qubits implementing the `7mod15` gate $2^2$ times and run it on the `unitary_simulator` backend to obtain the matrix represenation of the gates in the circuit.  Verify $U^2=I$."
   ]
  },
  {
   "cell_type": "code",
   "execution_count": 214,
   "id": "28ef3fd2",
   "metadata": {},
   "outputs": [],
   "source": [
    "\n",
    "unitary_circ = qk.QuantumCircuit(m)\n",
    "\n",
    "# Your code goes here\n",
    "for i in range(4):\n",
    "    unitary_circ.append(U, (i for i in range(m)))\n",
    "\n"
   ]
  },
  {
   "cell_type": "code",
   "execution_count": 215,
   "id": "5ba2ce23",
   "metadata": {},
   "outputs": [],
   "source": [
    "sim = qk.Aer.get_backend('unitary_simulator')\n",
    "unitary = qk.execute(unitary_circ, sim).result().get_unitary()"
   ]
  },
  {
   "cell_type": "code",
   "execution_count": 216,
   "id": "fef158df",
   "metadata": {},
   "outputs": [
    {
     "name": "stdout",
     "output_type": "stream",
     "text": [
      "Submitting your answer. Please wait...\n",
      "Congratulations 🎉! Your answer is correct and has been submitted.\n"
     ]
    }
   ],
   "source": [
    "from qc_grader.challenges.qgss_2023 import grade_lab3_ex6\n",
    "\n",
    "grade_lab3_ex6(unitary)"
   ]
  },
  {
   "cell_type": "markdown",
   "id": "b80f494e",
   "metadata": {},
   "source": [
    "## Step 3. Finding $\\phi$ and Continued Fractions\n",
    "\n",
    "\n",
    "Now armed with a way to execute $U^{2^{m-1}}$, let's use it in the QPE circuit you created earlier.  Below is a function to construct a controlled-$U$ gate. Use $8$ phase register qubits and, using the `aer_simulator` again, estimate the phase $\\phi$ given an input state of $|1\\rangle{}$.\n",
    "\n",
    "*Hint: at each step in the QPE circuit, you'll need to construct a new `cU_multi` circuit and append it to the QPE circuit. There will be several estimates that have approximately equal probability.*"
   ]
  },
  {
   "cell_type": "code",
   "execution_count": 207,
   "id": "71b9775b",
   "metadata": {},
   "outputs": [],
   "source": [
    "def cU_multi(k, m):\n",
    "    circ = qk.QuantumCircuit(m)\n",
    "    for _ in range(2**k):\n",
    "        circ.append(U, range(m))\n",
    "    \n",
    "    U_multi = circ.to_gate()\n",
    "    U_multi.name = '7Mod15_[2^{}]'.format(k)\n",
    "    \n",
    "    cU_multi = U_multi.control()\n",
    "    return cU_multi"
   ]
  },
  {
   "cell_type": "code",
   "execution_count": 232,
   "id": "9c82a756-b6fa-4207-88c2-aaa36de8c8fc",
   "metadata": {
    "tags": []
   },
   "outputs": [],
   "source": [
    "def qft(n):\n",
    "    \"\"\"Creates an n-qubit QFT circuit\"\"\"\n",
    "    circuit = qk.QuantumCircuit(n)\n",
    "    def swap_registers(circuit, n):\n",
    "        for qubit in range(n//2):\n",
    "            circuit.swap(qubit, n-qubit-1)\n",
    "        return circuit\n",
    "    def qft_rotations(circuit, n):\n",
    "        \"\"\"Performs qft on the first n qubits in circuit (without swaps)\"\"\"\n",
    "        if n == 0:\n",
    "            return circuit\n",
    "        n -= 1\n",
    "        circuit.h(n)\n",
    "        for qubit in range(n):\n",
    "            circuit.cp(np.pi/2**(n-qubit), qubit, n)\n",
    "        qft_rotations(circuit, n)\n",
    "    \n",
    "    qft_rotations(circuit, n)\n",
    "    swap_registers(circuit, n)\n",
    "    return circuit"
   ]
  },
  {
   "cell_type": "code",
   "execution_count": 234,
   "id": "8f0f482f",
   "metadata": {},
   "outputs": [
    {
     "data": {
      "image/png": "[encoded data removed]",
      "text/plain": [
       "<Figure size 2228.58x2290.94 with 1 Axes>"
      ]
     },
     "execution_count": 234,
     "metadata": {},
     "output_type": "execute_result"
    }
   ],
   "source": [
    "\n",
    "# your code goes here\n",
    "#Create the QuantumCircuit needed to run with 8 phase register qubits\n",
    "\n",
    "t = 2*m\n",
    "\n",
    "shor_qpe = qk.QuantumCircuit(t+m, t)\n",
    "shor_qpe.h(range(t))\n",
    "\n",
    "shor_qpe.x(t)\n",
    "for idx in range(t):\n",
    "    shor_qpe.append(cU_multi(idx, m), [idx]+ list(range(t,t+m)))\n",
    "\n",
    "qft_dag = qft(t).inverse()\n",
    "qft_dag.name = 'QFT+'\n",
    "shor_qpe.append(qft_dag, range(t))\n",
    "\n",
    "shor_qpe.measure(range(t), range(t))\n",
    "\n",
    "shor_qpe.draw()"
   ]
  },
  {
   "cell_type": "code",
   "execution_count": 235,
   "id": "f25f9d0b",
   "metadata": {},
   "outputs": [
    {
     "data": {
      "image/png": "[encoded data removed]",
      "text/plain": [
       "<Figure size 900x500 with 1 Axes>"
      ]
     },
     "execution_count": 235,
     "metadata": {},
     "output_type": "execute_result"
    }
   ],
   "source": [
    "## Run this cell to simulate 'shor_qpe' and to plot the histogram of the results\n",
    "sim = qk.Aer.get_backend('aer_simulator')\n",
    "shots = 20000\n",
    "shor_qpe_counts = qk.execute(shor_qpe, sim, shots=shots).result().get_counts()\n",
    "plot_histogram(shor_qpe_counts, figsize=(9,5))"
   ]
  },
  {
   "cell_type": "code",
   "execution_count": 236,
   "id": "20888bbf",
   "metadata": {},
   "outputs": [
    {
     "name": "stdout",
     "output_type": "stream",
     "text": [
      "Submitting your answer. Please wait...\n",
      "Congratulations 🎉! Your answer is correct and has been submitted.\n"
     ]
    }
   ],
   "source": [
    "from qc_grader.challenges.qgss_2023 import grade_lab3_ex7\n",
    "\n",
    "grade_lab3_ex7(shor_qpe_counts)"
   ]
  },
  {
   "cell_type": "markdown",
   "id": "94c8b2c0",
   "metadata": {},
   "source": [
    "We can then find the integers $s$ and $r$ using the continued fractions algorithm.  Luckily python has built-in functionality for this using the `Fraction` function, where we will limit the denominator to $r<15$.  Use this to find the estimated $s$ and $r$ for each outcome you measured above."
   ]
  },
  {
   "cell_type": "code",
   "execution_count": 237,
   "id": "fc619b09",
   "metadata": {},
   "outputs": [
    {
     "name": "stdout",
     "output_type": "stream",
     "text": [
      "5998794703657501/9007199254740992 \n",
      "\n",
      "2/3\n"
     ]
    }
   ],
   "source": [
    "from fractions import Fraction\n",
    "print(Fraction(0.666), '\\n')\n",
    "print(Fraction(0.666).limit_denominator(15))"
   ]
  },
  {
   "cell_type": "code",
   "execution_count": 254,
   "id": "0cd183a8",
   "metadata": {},
   "outputs": [],
   "source": [
    "\n",
    "shor_qpe_fractions = [\n",
    "    Fraction(0.25).limit_denominator(15),\n",
    "    Fraction(0.25).limit_denominator(15),\n",
    "    Fraction(0.25).limit_denominator(15),\n",
    "    Fraction(0.25).limit_denominator(15)\n",
    "] # create a list of Fraction objects for each measurement outcome\n"
   ]
  },
  {
   "cell_type": "code",
   "execution_count": 255,
   "id": "64f3ab41",
   "metadata": {},
   "outputs": [
    {
     "name": "stdout",
     "output_type": "stream",
     "text": [
      "Submitting your answer. Please wait...\n",
      "Congratulations 🎉! Your answer is correct and has been submitted.\n"
     ]
    }
   ],
   "source": [
    "from qc_grader.challenges.qgss_2023 import grade_lab3_ex8\n",
    "\n",
    "grade_lab3_ex8(shor_qpe_fractions)"
   ]
  },
  {
   "cell_type": "markdown",
   "id": "7be59ad2",
   "metadata": {},
   "source": [
    "## Step 4. Putting it all together\n",
    "\n",
    "Now let's put all of these steps together in order to factor the (very simple) number,  $N = 15$.  We'll continue with our example of $a=7$, remember that the phase we measure $s/r$ where $s$ is a random integer between $0$ and $r-1$ and:\n",
    "\n",
    "$$\n",
    "    a^r\\text{mod}N = 1\n",
    "$$\n",
    "\n",
    "Then, once we have $r$, we can find a factor of $N$ by:\n",
    "\n",
    "$$\n",
    "    \\left(a^r-1\\right)\\text{mod} N = 0\n",
    "$$\n",
    "which requires that $N$ must divide by $a^r-1$.  If $r$ is even, we can also write\n",
    "\n",
    "$$\n",
    "    a^r-1 = \\left(a^{r/2}+1\\right)\\left(a^{r/2}-1\\right).\n",
    "$$\n",
    "\n",
    "Put together a function called `shor_qpe` which takes arguments for $a$ (a random co-prime where $a\\in [2,N-1]$) and $k$ (the number of counting qubits) and composes, runs, and processes Shor's algorithm to guess the factors."
   ]
  },
  {
   "cell_type": "code",
   "execution_count": 276,
   "id": "e8e27cf7-49d4-4fd8-b2ac-4e01284542ad",
   "metadata": {
    "tags": []
   },
   "outputs": [],
   "source": [
    "def c_amod15(a, power):\n",
    "    \"\"\"Controlled multiplication by a mod 15\"\"\"\n",
    "    if a not in [2,4,7,8,11,13]:\n",
    "        raise ValueError(\"'a' must be 2,4,7,8,11 or 13\")\n",
    "    U = qk.QuantumCircuit(4)\n",
    "    for _iteration in range(power):\n",
    "        if a in [2,13]:\n",
    "            U.swap(2,3)\n",
    "            U.swap(1,2)\n",
    "            U.swap(0,1)\n",
    "        if a in [7,8]:\n",
    "            U.swap(0,1)\n",
    "            U.swap(1,2)\n",
    "            U.swap(2,3)\n",
    "        if a in [4, 11]:\n",
    "            U.swap(1,3)\n",
    "            U.swap(0,2)\n",
    "        if a in [7,11,13]:\n",
    "            for q in range(4):\n",
    "                U.x(q)\n",
    "    U = U.to_gate()\n",
    "    U.name = f\"{a}^{power} mod 15\"\n",
    "    c_U = U.control()\n",
    "    return c_U"
   ]
  },
  {
   "cell_type": "code",
   "execution_count": 283,
   "id": "217a1877-9b5c-4d98-8586-3ee0e2f5bb6f",
   "metadata": {
    "tags": []
   },
   "outputs": [],
   "source": [
    "def qpe_amod15(a):\n",
    "    \"\"\"Performs quantum phase estimation on the operation a*r mod 15.\n",
    "    Args:\n",
    "        a (int): This is 'a' in a*r mod 15\n",
    "    Returns:\n",
    "        float: Estimate of the phase\n",
    "    \"\"\"\n",
    "    N_COUNT = 8\n",
    "    qc = qk.QuantumCircuit(4+N_COUNT, N_COUNT)\n",
    "    for q in range(N_COUNT):\n",
    "        qc.h(q)     # Initialize counting qubits in state |+>\n",
    "    qc.x(3+N_COUNT) # And auxiliary register in state |1>\n",
    "    for q in range(N_COUNT): # Do controlled-U operations\n",
    "        qc.append(c_amod15(a, 2**q),\n",
    "                 [q] + [i+N_COUNT for i in range(4)])\n",
    "    qc.append(qft_dagger(N_COUNT), range(N_COUNT)) # Do inverse-QFT\n",
    "    qc.measure(range(N_COUNT), range(N_COUNT))\n",
    "    # Simulate Results\n",
    "    aer_sim = qk.Aer.get_backend('aer_simulator')\n",
    "    # `memory=True` tells the backend to save each measurement in a list\n",
    "    job = aer_sim.run(qk.transpile(qc, aer_sim), shots=1, memory=True)\n",
    "    readings = job.result().get_memory()\n",
    "    print(\"Register Reading: \" + readings[0])\n",
    "    phase = int(readings[0],2)/(2**N_COUNT)\n",
    "    print(f\"Corresponding Phase: {phase}\")\n",
    "    return phase"
   ]
  },
  {
   "cell_type": "code",
   "execution_count": 284,
   "id": "5be23ac1",
   "metadata": {},
   "outputs": [],
   "source": [
    "def shor_qpe(a, k):\n",
    "\n",
    "\n",
    "    #Step 1. Begin a while loop until a nontrivial guess is found\n",
    "    ### Your code goes here ###\n",
    "\n",
    "\n",
    "        #Step 2a. Construct a QPE circuit with m phase count qubits\n",
    "        #  to guess the phase phi = s/r using the function cU_multi()\n",
    "        ### Your code goes here ###\n",
    "\n",
    "\n",
    "        #Step 2b. Run the QPE circuit with a single shot, record the results\n",
    "        # and convert the estimated phase bitstring to decimal\n",
    "        ### Your code goes here ###\n",
    "\n",
    "\n",
    "        #Step 3. Use the Fraction object to find the guess for r\n",
    "        ### Your code goes here ###\n",
    "\n",
    "\n",
    "        #Step 4. Now that r has been found, use the builtin greatest common deonominator\n",
    "        # function to determine the guesses for a factor of N\n",
    "        #guesses = [gcd(a**(r//2)-1, N), gcd(a**(r//2)+1, N)]\n",
    "\n",
    "        #Step 5. For each guess in guesses, check if at least one is a non-trivial factor\n",
    "        # i.e.  (guess != 1 or N) and (N % guess == 0)\n",
    "        ### Your code goes here ###\n",
    "    \n",
    "    #Step 6. If a nontrivial factor is found return the list 'guesses', otherwise\n",
    "    # continue the while loop\n",
    "    ### Your code goes here ###\n",
    "    \n",
    "    FACTOR_FOUND = False\n",
    "    ATTEMPT = 0\n",
    "    while not FACTOR_FOUND:\n",
    "        ATTEMPT += 1\n",
    "        #print(f\"\\nATTEMPT {ATTEMPT}:\")\n",
    "        phase = qpe_amod15(a) # Phase = s/r\n",
    "        frac = Fraction(phase).limit_denominator(N)\n",
    "        r = frac.denominator\n",
    "        #print(f\"Result: r = {r}\")\n",
    "        if phase != 0:\n",
    "            # Guesses for factors are gcd(x^{r/2} ±1 , 15)\n",
    "            guesses = [gcd(a**(r//2)-1, N), gcd(a**(r//2)+1, N)]\n",
    "            #print(f\"Guessed Factors: {guesses[0]} and {guesses[1]}\")\n",
    "            for guess in guesses:\n",
    "                if guess not in [1,N] and (N % guess) == 0:\n",
    "                    # Guess is a factor!\n",
    "                    #print(\"*** Non-trivial factor found: {guess} ***\")\n",
    "                    FACTOR_FOUND = True\n",
    "    \n",
    "    return guesses"
   ]
  },
  {
   "cell_type": "code",
   "execution_count": 287,
   "id": "03a369ba",
   "metadata": {},
   "outputs": [
    {
     "name": "stdout",
     "output_type": "stream",
     "text": [
      "Register Reading: 10000000\n",
      "Corresponding Phase: 0.5\n",
      "Submitting your answer. Please wait...\n",
      "Congratulations 🎉! Your answer is correct and has been submitted.\n"
     ]
    }
   ],
   "source": [
    "from qc_grader.challenges.qgss_2023 import grade_lab3_ex9\n",
    "\n",
    "grade_lab3_ex9(shor_qpe)"
   ]
  },
  {
   "cell_type": "markdown",
   "id": "6a1e61fd",
   "metadata": {},
   "source": [
    "Congratulations! You've completed Lab 3 of the Global Summer School!! 🎉\n",
    "\n",
    "This lab was adapted from both the [Qiskit QPE Lab](https://learn.qiskit.org/course/ch-labs/lab-5-accuracy-of-quantum-phase-estimation#lab-3-0) as well as the [Qiskit Shor's Algorithm](https://learn.qiskit.org/course/ch-labs/lab-7-scalable-shors-algorithm) lab"
   ]
  }
 ],
 "metadata": {
  "kernelspec": {
   "display_name": "Python 3 (ipykernel)",
   "language": "python",
   "name": "python3"
  },
  "language_info": {
   "codemirror_mode": {
    "name": "ipython",
    "version": 3
   },
   "file_extension": ".py",
   "mimetype": "text/x-python",
   "name": "python",
   "nbconvert_exporter": "python",
   "pygments_lexer": "ipython3",
   "version": "3.10.8"
  },
  "toc": {
   "base_numbering": 1,
   "nav_menu": {},
   "number_sections": true,
   "sideBar": true,
   "skip_h1_title": false,
   "title_cell": "Table of Contents",
   "title_sidebar": "Contents",
   "toc_cell": false,
   "toc_position": {},
   "toc_section_display": true,
   "toc_window_display": false
  },
  "widgets": {
   "application/vnd.jupyter.widget-state+json": {
    "state": {},
    "version_major": 2,
    "version_minor": 0
   }
  }
 },
 "nbformat": 4,
 "nbformat_minor": 5
}
